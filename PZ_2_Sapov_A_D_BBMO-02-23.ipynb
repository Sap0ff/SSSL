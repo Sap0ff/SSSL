{
  "nbformat": 4,
  "nbformat_minor": 0,
  "metadata": {
    "colab": {
      "provenance": []
    },
    "kernelspec": {
      "name": "python3",
      "display_name": "Python 3"
    },
    "language_info": {
      "name": "python"
    }
  },
  "cells": [
    {
      "cell_type": "markdown",
      "source": [
        "#**Система для сбора событий и логов на тему - \"Анализ логов\"**\n",
        "#**Практическая работа №2 по предмету**\n",
        "\n",
        "Выполнил студент - **Сапов Александр Дмитриевич** группы: **ББМО-02-23**"
      ],
      "metadata": {
        "id": "iz-6AxMUSpw7"
      }
    },
    {
      "cell_type": "markdown",
      "source": [
        "## **Вариант задания:**\n",
        "\n",
        "В списке группы - **26**\n",
        "\n",
        "Расчет варианта - **26 % 16 + 1 = 11**\n",
        "\n",
        "В качестве логов по варианту - **`OpenStack`** в репозитории **`loghub`**"
      ],
      "metadata": {
        "id": "dlVOeIhMW7YV"
      }
    },
    {
      "cell_type": "markdown",
      "source": [
        "## **1 - Загрузка файлов из репозитория `loghub` в рабочую область проекта:**"
      ],
      "metadata": {
        "id": "65ndHQSkXgWd"
      }
    },
    {
      "cell_type": "code",
      "execution_count": 15,
      "metadata": {
        "id": "3W7Tfd8uSkVN"
      },
      "outputs": [],
      "source": [
        "import os.path\n",
        "\n",
        "if not os.path.isdir(\"./loghub/\"):\n",
        "    !git clone https://github.com/logpai/loghub"
      ]
    },
    {
      "cell_type": "markdown",
      "source": [
        "## **2 - Создание регулярного выражения для парсинга логов:**"
      ],
      "metadata": {
        "id": "boCmoFluYDON"
      }
    },
    {
      "cell_type": "markdown",
      "source": [
        "Для примера возьмем строчку из логов `OpenStack`:\n",
        "\n",
        "`nova-api.log.1.2017-05-16_13:53:08 2017-05-16 00:00:00.008 25746 INFO nova.osapi_compute.wsgi.server [req-38101a0b-2096-447d-96ea-a692162415ae 113d3a99c3da401fbd62cc2caa5b96d2 54fadb412c4e40cdbaed9335e4c35a9e - - -] 10.11.10.1 \"GET /v2/54fadb412c4e40cdbaed9335e4c35a9e/servers/detail HTTP/1.1\" status: 200 len: 1893 time: 0.2477829`\n",
        "\n",
        "Регулярное выражение извлекает все поля записи лога и делит его на следующие группы:\n",
        "\n",
        "1. (\\d{4}-\\d{2}-\\d{2}\\s+\\d{2}:\\d{2}:\\d{2},\\d{3}) — дата и время (например, 2017-07-25 01:17:36,490).\n",
        "2. (\\d+) — PID (например, 20582).\n",
        "3. (\\w+) — уровень логирования (например, INFO).\n",
        "4. ([\\w\\.]+) — компонент (например, neutron.wsgi).\n",
        "5. (.*) — остальное сообщение.\n",
        "\n",
        "\n",
        "**Реализация регулярного выражения:**"
      ],
      "metadata": {
        "id": "sqyYZj9bYNxT"
      }
    },
    {
      "cell_type": "code",
      "source": [
        "pattern = r'^\\S+\\s+(\\d{4}-\\d{2}-\\d{2}\\s+\\d{2}:\\d{2}:\\d{2}\\.\\d{3})\\s+(\\d+)\\s+(\\w+)\\s+([\\w\\.]+)\\s+(.*)'"
      ],
      "metadata": {
        "id": "n4UqC56TZEFi"
      },
      "execution_count": 16,
      "outputs": []
    },
    {
      "cell_type": "markdown",
      "source": [
        "## **3 - Cоздание базы данных для хранения записей полученных логов:**"
      ],
      "metadata": {
        "id": "OsxXG2LaZZXh"
      }
    },
    {
      "cell_type": "markdown",
      "source": [],
      "metadata": {
        "id": "XClBGp_V22g3"
      }
    },
    {
      "cell_type": "code",
      "source": [
        "if not os.path.isdir(\"./db/\"):\n",
        "  os.makedirs(\"./db/\")\n",
        "\n",
        "import sqlite3\n",
        "\n",
        "db_path = './db/log-db.db'\n",
        "connection = sqlite3.connect(db_path)\n",
        "cursor = connection.cursor()\n",
        "\n",
        "cursor.execute(\"DROP TABLE IF EXISTS logs\")\n",
        "cursor.execute(\"CREATE TABLE logs (Id INTEGER PRIMARY KEY AUTOINCREMENT, Datetime TEXT, Pid INTEGER, Level TEXT, Component TEXT, Message TEXT)\")\n",
        "\n",
        "connection.commit()\n",
        "cursor.close()\n",
        "connection.close()"
      ],
      "metadata": {
        "id": "UXOkdn3QZqyh"
      },
      "execution_count": 17,
      "outputs": []
    },
    {
      "cell_type": "markdown",
      "source": [
        "## **4 - Парсинг логов `OpenStack` и сохранение полученных данных в БД:**"
      ],
      "metadata": {
        "id": "pH9wILTHaFmU"
      }
    },
    {
      "cell_type": "code",
      "source": [
        "import sqlite3\n",
        "import re\n",
        "\n",
        "connection = sqlite3.connect(db_path)\n",
        "cursor = connection.cursor()\n",
        "\n",
        "cursor.execute(\"DELETE FROM logs\")\n",
        "\n",
        "with open('./loghub/OpenStack/OpenStack_2k.log', 'r', encoding='utf-8') as log_file:\n",
        "    for line in log_file:\n",
        "        log_match = re.match(pattern, line)\n",
        "        if log_match:\n",
        "            datetime = log_match.group(1)\n",
        "            pid = log_match.group(2)\n",
        "            level = log_match.group(3)\n",
        "            component = log_match.group(4)\n",
        "            message = log_match.group(5)\n",
        "            values = (datetime, pid, level, component, message)\n",
        "            sql = \"INSERT INTO logs (Datetime, Pid, Level, Component, Message) VALUES (?, ?, ?, ?, ?)\"\n",
        "            cursor.execute(sql, values)\n",
        "        else:\n",
        "            print(f\"Не удалось распознать строку: {line.strip()}\")  # Отладка\n",
        "\n",
        "connection.commit()\n",
        "cursor.close()\n",
        "connection.close()"
      ],
      "metadata": {
        "id": "xMngqOsPaF4K"
      },
      "execution_count": 28,
      "outputs": []
    },
    {
      "cell_type": "markdown",
      "source": [
        "## **5 - Чтению данных, записанных ранее в БД:**"
      ],
      "metadata": {
        "id": "U4J8OEJjbXfn"
      }
    },
    {
      "cell_type": "code",
      "source": [
        "import pandas as pd\n",
        "\n",
        "connection = sqlite3.connect(db_path)\n",
        "cursor = connection.cursor()\n",
        "\n",
        "cursor.execute(\"SELECT * FROM logs\")\n",
        "rows = cursor.fetchall()\n",
        "\n",
        "cursor.close()\n",
        "connection.close()\n",
        "\n",
        "log_df = pd.DataFrame(rows, columns=(\"Id\", \"Datetime\", \"Pid\", \"Level\", \"Component\", \"Message\"))\n",
        "log_df"
      ],
      "metadata": {
        "colab": {
          "base_uri": "https://localhost:8080/",
          "height": 423
        },
        "id": "ZnJqsbl_beK8",
        "outputId": "f04e8836-7f27-4ce2-8551-39d2e5e53dcd"
      },
      "execution_count": 29,
      "outputs": [
        {
          "output_type": "execute_result",
          "data": {
            "text/plain": [
              "        Id                 Datetime    Pid Level  \\\n",
              "0     2001  2017-05-16 00:00:00.008  25746  INFO   \n",
              "1     2002  2017-05-16 00:00:00.272  25746  INFO   \n",
              "2     2003  2017-05-16 00:00:01.551  25746  INFO   \n",
              "3     2004  2017-05-16 00:00:01.813  25746  INFO   \n",
              "4     2005  2017-05-16 00:00:03.091  25746  INFO   \n",
              "...    ...                      ...    ...   ...   \n",
              "1995  3996  2017-05-16 00:14:47.410  25746  INFO   \n",
              "1996  3997  2017-05-16 00:14:47.447   2931  INFO   \n",
              "1997  3998  2017-05-16 00:14:47.652  25799  INFO   \n",
              "1998  3999  2017-05-16 00:14:47.663   2931  INFO   \n",
              "1999  4000  2017-05-16 00:14:47.687  25746  INFO   \n",
              "\n",
              "                           Component  \\\n",
              "0     nova.osapi_compute.wsgi.server   \n",
              "1     nova.osapi_compute.wsgi.server   \n",
              "2     nova.osapi_compute.wsgi.server   \n",
              "3     nova.osapi_compute.wsgi.server   \n",
              "4     nova.osapi_compute.wsgi.server   \n",
              "...                              ...   \n",
              "1995  nova.osapi_compute.wsgi.server   \n",
              "1996            nova.compute.manager   \n",
              "1997       nova.metadata.wsgi.server   \n",
              "1998        nova.virt.libvirt.driver   \n",
              "1999  nova.osapi_compute.wsgi.server   \n",
              "\n",
              "                                                Message  \n",
              "0     [req-38101a0b-2096-447d-96ea-a692162415ae 113d...  \n",
              "1     [req-9bc36dd9-91c5-4314-898a-47625eb93b09 113d...  \n",
              "2     [req-55db2d8d-cdb7-4b4b-993b-429be84c0c3e 113d...  \n",
              "3     [req-2a3dc421-6604-42a7-9390-a18dc824d5d6 113d...  \n",
              "4     [req-939eb332-c1c1-4e67-99b8-8695f8f1980a 113d...  \n",
              "...                                                 ...  \n",
              "1995  [req-699eeadf-6db8-44a4-8521-1ab4e8a53b53 113d...  \n",
              "1996  [req-699eeadf-6db8-44a4-8521-1ab4e8a53b53 113d...  \n",
              "1997  [req-e5e061d6-f2aa-464b-9512-2fd6c7c9a812 - - ...  \n",
              "1998  [-] [instance: faf974ea-cba5-4e1b-93f4-3a3bc60...  \n",
              "1999  [req-dd237280-5bc8-41cb-a035-26c8e64d49fc 113d...  \n",
              "\n",
              "[2000 rows x 6 columns]"
            ],
            "text/html": [
              "\n",
              "  <div id=\"df-44e17d5c-42eb-42ff-b465-606d597b80b5\" class=\"colab-df-container\">\n",
              "    <div>\n",
              "<style scoped>\n",
              "    .dataframe tbody tr th:only-of-type {\n",
              "        vertical-align: middle;\n",
              "    }\n",
              "\n",
              "    .dataframe tbody tr th {\n",
              "        vertical-align: top;\n",
              "    }\n",
              "\n",
              "    .dataframe thead th {\n",
              "        text-align: right;\n",
              "    }\n",
              "</style>\n",
              "<table border=\"1\" class=\"dataframe\">\n",
              "  <thead>\n",
              "    <tr style=\"text-align: right;\">\n",
              "      <th></th>\n",
              "      <th>Id</th>\n",
              "      <th>Datetime</th>\n",
              "      <th>Pid</th>\n",
              "      <th>Level</th>\n",
              "      <th>Component</th>\n",
              "      <th>Message</th>\n",
              "    </tr>\n",
              "  </thead>\n",
              "  <tbody>\n",
              "    <tr>\n",
              "      <th>0</th>\n",
              "      <td>2001</td>\n",
              "      <td>2017-05-16 00:00:00.008</td>\n",
              "      <td>25746</td>\n",
              "      <td>INFO</td>\n",
              "      <td>nova.osapi_compute.wsgi.server</td>\n",
              "      <td>[req-38101a0b-2096-447d-96ea-a692162415ae 113d...</td>\n",
              "    </tr>\n",
              "    <tr>\n",
              "      <th>1</th>\n",
              "      <td>2002</td>\n",
              "      <td>2017-05-16 00:00:00.272</td>\n",
              "      <td>25746</td>\n",
              "      <td>INFO</td>\n",
              "      <td>nova.osapi_compute.wsgi.server</td>\n",
              "      <td>[req-9bc36dd9-91c5-4314-898a-47625eb93b09 113d...</td>\n",
              "    </tr>\n",
              "    <tr>\n",
              "      <th>2</th>\n",
              "      <td>2003</td>\n",
              "      <td>2017-05-16 00:00:01.551</td>\n",
              "      <td>25746</td>\n",
              "      <td>INFO</td>\n",
              "      <td>nova.osapi_compute.wsgi.server</td>\n",
              "      <td>[req-55db2d8d-cdb7-4b4b-993b-429be84c0c3e 113d...</td>\n",
              "    </tr>\n",
              "    <tr>\n",
              "      <th>3</th>\n",
              "      <td>2004</td>\n",
              "      <td>2017-05-16 00:00:01.813</td>\n",
              "      <td>25746</td>\n",
              "      <td>INFO</td>\n",
              "      <td>nova.osapi_compute.wsgi.server</td>\n",
              "      <td>[req-2a3dc421-6604-42a7-9390-a18dc824d5d6 113d...</td>\n",
              "    </tr>\n",
              "    <tr>\n",
              "      <th>4</th>\n",
              "      <td>2005</td>\n",
              "      <td>2017-05-16 00:00:03.091</td>\n",
              "      <td>25746</td>\n",
              "      <td>INFO</td>\n",
              "      <td>nova.osapi_compute.wsgi.server</td>\n",
              "      <td>[req-939eb332-c1c1-4e67-99b8-8695f8f1980a 113d...</td>\n",
              "    </tr>\n",
              "    <tr>\n",
              "      <th>...</th>\n",
              "      <td>...</td>\n",
              "      <td>...</td>\n",
              "      <td>...</td>\n",
              "      <td>...</td>\n",
              "      <td>...</td>\n",
              "      <td>...</td>\n",
              "    </tr>\n",
              "    <tr>\n",
              "      <th>1995</th>\n",
              "      <td>3996</td>\n",
              "      <td>2017-05-16 00:14:47.410</td>\n",
              "      <td>25746</td>\n",
              "      <td>INFO</td>\n",
              "      <td>nova.osapi_compute.wsgi.server</td>\n",
              "      <td>[req-699eeadf-6db8-44a4-8521-1ab4e8a53b53 113d...</td>\n",
              "    </tr>\n",
              "    <tr>\n",
              "      <th>1996</th>\n",
              "      <td>3997</td>\n",
              "      <td>2017-05-16 00:14:47.447</td>\n",
              "      <td>2931</td>\n",
              "      <td>INFO</td>\n",
              "      <td>nova.compute.manager</td>\n",
              "      <td>[req-699eeadf-6db8-44a4-8521-1ab4e8a53b53 113d...</td>\n",
              "    </tr>\n",
              "    <tr>\n",
              "      <th>1997</th>\n",
              "      <td>3998</td>\n",
              "      <td>2017-05-16 00:14:47.652</td>\n",
              "      <td>25799</td>\n",
              "      <td>INFO</td>\n",
              "      <td>nova.metadata.wsgi.server</td>\n",
              "      <td>[req-e5e061d6-f2aa-464b-9512-2fd6c7c9a812 - - ...</td>\n",
              "    </tr>\n",
              "    <tr>\n",
              "      <th>1998</th>\n",
              "      <td>3999</td>\n",
              "      <td>2017-05-16 00:14:47.663</td>\n",
              "      <td>2931</td>\n",
              "      <td>INFO</td>\n",
              "      <td>nova.virt.libvirt.driver</td>\n",
              "      <td>[-] [instance: faf974ea-cba5-4e1b-93f4-3a3bc60...</td>\n",
              "    </tr>\n",
              "    <tr>\n",
              "      <th>1999</th>\n",
              "      <td>4000</td>\n",
              "      <td>2017-05-16 00:14:47.687</td>\n",
              "      <td>25746</td>\n",
              "      <td>INFO</td>\n",
              "      <td>nova.osapi_compute.wsgi.server</td>\n",
              "      <td>[req-dd237280-5bc8-41cb-a035-26c8e64d49fc 113d...</td>\n",
              "    </tr>\n",
              "  </tbody>\n",
              "</table>\n",
              "<p>2000 rows × 6 columns</p>\n",
              "</div>\n",
              "    <div class=\"colab-df-buttons\">\n",
              "\n",
              "  <div class=\"colab-df-container\">\n",
              "    <button class=\"colab-df-convert\" onclick=\"convertToInteractive('df-44e17d5c-42eb-42ff-b465-606d597b80b5')\"\n",
              "            title=\"Convert this dataframe to an interactive table.\"\n",
              "            style=\"display:none;\">\n",
              "\n",
              "  <svg xmlns=\"http://www.w3.org/2000/svg\" height=\"24px\" viewBox=\"0 -960 960 960\">\n",
              "    <path d=\"M120-120v-720h720v720H120Zm60-500h600v-160H180v160Zm220 220h160v-160H400v160Zm0 220h160v-160H400v160ZM180-400h160v-160H180v160Zm440 0h160v-160H620v160ZM180-180h160v-160H180v160Zm440 0h160v-160H620v160Z\"/>\n",
              "  </svg>\n",
              "    </button>\n",
              "\n",
              "  <style>\n",
              "    .colab-df-container {\n",
              "      display:flex;\n",
              "      gap: 12px;\n",
              "    }\n",
              "\n",
              "    .colab-df-convert {\n",
              "      background-color: #E8F0FE;\n",
              "      border: none;\n",
              "      border-radius: 50%;\n",
              "      cursor: pointer;\n",
              "      display: none;\n",
              "      fill: #1967D2;\n",
              "      height: 32px;\n",
              "      padding: 0 0 0 0;\n",
              "      width: 32px;\n",
              "    }\n",
              "\n",
              "    .colab-df-convert:hover {\n",
              "      background-color: #E2EBFA;\n",
              "      box-shadow: 0px 1px 2px rgba(60, 64, 67, 0.3), 0px 1px 3px 1px rgba(60, 64, 67, 0.15);\n",
              "      fill: #174EA6;\n",
              "    }\n",
              "\n",
              "    .colab-df-buttons div {\n",
              "      margin-bottom: 4px;\n",
              "    }\n",
              "\n",
              "    [theme=dark] .colab-df-convert {\n",
              "      background-color: #3B4455;\n",
              "      fill: #D2E3FC;\n",
              "    }\n",
              "\n",
              "    [theme=dark] .colab-df-convert:hover {\n",
              "      background-color: #434B5C;\n",
              "      box-shadow: 0px 1px 3px 1px rgba(0, 0, 0, 0.15);\n",
              "      filter: drop-shadow(0px 1px 2px rgba(0, 0, 0, 0.3));\n",
              "      fill: #FFFFFF;\n",
              "    }\n",
              "  </style>\n",
              "\n",
              "    <script>\n",
              "      const buttonEl =\n",
              "        document.querySelector('#df-44e17d5c-42eb-42ff-b465-606d597b80b5 button.colab-df-convert');\n",
              "      buttonEl.style.display =\n",
              "        google.colab.kernel.accessAllowed ? 'block' : 'none';\n",
              "\n",
              "      async function convertToInteractive(key) {\n",
              "        const element = document.querySelector('#df-44e17d5c-42eb-42ff-b465-606d597b80b5');\n",
              "        const dataTable =\n",
              "          await google.colab.kernel.invokeFunction('convertToInteractive',\n",
              "                                                    [key], {});\n",
              "        if (!dataTable) return;\n",
              "\n",
              "        const docLinkHtml = 'Like what you see? Visit the ' +\n",
              "          '<a target=\"_blank\" href=https://colab.research.google.com/notebooks/data_table.ipynb>data table notebook</a>'\n",
              "          + ' to learn more about interactive tables.';\n",
              "        element.innerHTML = '';\n",
              "        dataTable['output_type'] = 'display_data';\n",
              "        await google.colab.output.renderOutput(dataTable, element);\n",
              "        const docLink = document.createElement('div');\n",
              "        docLink.innerHTML = docLinkHtml;\n",
              "        element.appendChild(docLink);\n",
              "      }\n",
              "    </script>\n",
              "  </div>\n",
              "\n",
              "\n",
              "<div id=\"df-8b2689f0-0c43-40f8-aace-2946c3fb0103\">\n",
              "  <button class=\"colab-df-quickchart\" onclick=\"quickchart('df-8b2689f0-0c43-40f8-aace-2946c3fb0103')\"\n",
              "            title=\"Suggest charts\"\n",
              "            style=\"display:none;\">\n",
              "\n",
              "<svg xmlns=\"http://www.w3.org/2000/svg\" height=\"24px\"viewBox=\"0 0 24 24\"\n",
              "     width=\"24px\">\n",
              "    <g>\n",
              "        <path d=\"M19 3H5c-1.1 0-2 .9-2 2v14c0 1.1.9 2 2 2h14c1.1 0 2-.9 2-2V5c0-1.1-.9-2-2-2zM9 17H7v-7h2v7zm4 0h-2V7h2v10zm4 0h-2v-4h2v4z\"/>\n",
              "    </g>\n",
              "</svg>\n",
              "  </button>\n",
              "\n",
              "<style>\n",
              "  .colab-df-quickchart {\n",
              "      --bg-color: #E8F0FE;\n",
              "      --fill-color: #1967D2;\n",
              "      --hover-bg-color: #E2EBFA;\n",
              "      --hover-fill-color: #174EA6;\n",
              "      --disabled-fill-color: #AAA;\n",
              "      --disabled-bg-color: #DDD;\n",
              "  }\n",
              "\n",
              "  [theme=dark] .colab-df-quickchart {\n",
              "      --bg-color: #3B4455;\n",
              "      --fill-color: #D2E3FC;\n",
              "      --hover-bg-color: #434B5C;\n",
              "      --hover-fill-color: #FFFFFF;\n",
              "      --disabled-bg-color: #3B4455;\n",
              "      --disabled-fill-color: #666;\n",
              "  }\n",
              "\n",
              "  .colab-df-quickchart {\n",
              "    background-color: var(--bg-color);\n",
              "    border: none;\n",
              "    border-radius: 50%;\n",
              "    cursor: pointer;\n",
              "    display: none;\n",
              "    fill: var(--fill-color);\n",
              "    height: 32px;\n",
              "    padding: 0;\n",
              "    width: 32px;\n",
              "  }\n",
              "\n",
              "  .colab-df-quickchart:hover {\n",
              "    background-color: var(--hover-bg-color);\n",
              "    box-shadow: 0 1px 2px rgba(60, 64, 67, 0.3), 0 1px 3px 1px rgba(60, 64, 67, 0.15);\n",
              "    fill: var(--button-hover-fill-color);\n",
              "  }\n",
              "\n",
              "  .colab-df-quickchart-complete:disabled,\n",
              "  .colab-df-quickchart-complete:disabled:hover {\n",
              "    background-color: var(--disabled-bg-color);\n",
              "    fill: var(--disabled-fill-color);\n",
              "    box-shadow: none;\n",
              "  }\n",
              "\n",
              "  .colab-df-spinner {\n",
              "    border: 2px solid var(--fill-color);\n",
              "    border-color: transparent;\n",
              "    border-bottom-color: var(--fill-color);\n",
              "    animation:\n",
              "      spin 1s steps(1) infinite;\n",
              "  }\n",
              "\n",
              "  @keyframes spin {\n",
              "    0% {\n",
              "      border-color: transparent;\n",
              "      border-bottom-color: var(--fill-color);\n",
              "      border-left-color: var(--fill-color);\n",
              "    }\n",
              "    20% {\n",
              "      border-color: transparent;\n",
              "      border-left-color: var(--fill-color);\n",
              "      border-top-color: var(--fill-color);\n",
              "    }\n",
              "    30% {\n",
              "      border-color: transparent;\n",
              "      border-left-color: var(--fill-color);\n",
              "      border-top-color: var(--fill-color);\n",
              "      border-right-color: var(--fill-color);\n",
              "    }\n",
              "    40% {\n",
              "      border-color: transparent;\n",
              "      border-right-color: var(--fill-color);\n",
              "      border-top-color: var(--fill-color);\n",
              "    }\n",
              "    60% {\n",
              "      border-color: transparent;\n",
              "      border-right-color: var(--fill-color);\n",
              "    }\n",
              "    80% {\n",
              "      border-color: transparent;\n",
              "      border-right-color: var(--fill-color);\n",
              "      border-bottom-color: var(--fill-color);\n",
              "    }\n",
              "    90% {\n",
              "      border-color: transparent;\n",
              "      border-bottom-color: var(--fill-color);\n",
              "    }\n",
              "  }\n",
              "</style>\n",
              "\n",
              "  <script>\n",
              "    async function quickchart(key) {\n",
              "      const quickchartButtonEl =\n",
              "        document.querySelector('#' + key + ' button');\n",
              "      quickchartButtonEl.disabled = true;  // To prevent multiple clicks.\n",
              "      quickchartButtonEl.classList.add('colab-df-spinner');\n",
              "      try {\n",
              "        const charts = await google.colab.kernel.invokeFunction(\n",
              "            'suggestCharts', [key], {});\n",
              "      } catch (error) {\n",
              "        console.error('Error during call to suggestCharts:', error);\n",
              "      }\n",
              "      quickchartButtonEl.classList.remove('colab-df-spinner');\n",
              "      quickchartButtonEl.classList.add('colab-df-quickchart-complete');\n",
              "    }\n",
              "    (() => {\n",
              "      let quickchartButtonEl =\n",
              "        document.querySelector('#df-8b2689f0-0c43-40f8-aace-2946c3fb0103 button');\n",
              "      quickchartButtonEl.style.display =\n",
              "        google.colab.kernel.accessAllowed ? 'block' : 'none';\n",
              "    })();\n",
              "  </script>\n",
              "</div>\n",
              "    </div>\n",
              "  </div>\n"
            ],
            "application/vnd.google.colaboratory.intrinsic+json": {
              "type": "dataframe",
              "variable_name": "log_df",
              "summary": "{\n  \"name\": \"log_df\",\n  \"rows\": 2000,\n  \"fields\": [\n    {\n      \"column\": \"Id\",\n      \"properties\": {\n        \"dtype\": \"number\",\n        \"std\": 577,\n        \"min\": 2001,\n        \"max\": 4000,\n        \"num_unique_values\": 2000,\n        \"samples\": [\n          3861,\n          2354,\n          3334\n        ],\n        \"semantic_type\": \"\",\n        \"description\": \"\"\n      }\n    },\n    {\n      \"column\": \"Datetime\",\n      \"properties\": {\n        \"dtype\": \"object\",\n        \"num_unique_values\": 1933,\n        \"samples\": [\n          \"2017-05-16 00:08:22.485\",\n          \"2017-05-16 00:12:41.834\",\n          \"2017-05-16 00:14:25.130\"\n        ],\n        \"semantic_type\": \"\",\n        \"description\": \"\"\n      }\n    },\n    {\n      \"column\": \"Pid\",\n      \"properties\": {\n        \"dtype\": \"number\",\n        \"std\": 11389,\n        \"min\": 2931,\n        \"max\": 25998,\n        \"num_unique_values\": 22,\n        \"samples\": [\n          25746,\n          25788,\n          25776\n        ],\n        \"semantic_type\": \"\",\n        \"description\": \"\"\n      }\n    },\n    {\n      \"column\": \"Level\",\n      \"properties\": {\n        \"dtype\": \"category\",\n        \"num_unique_values\": 2,\n        \"samples\": [\n          \"WARNING\",\n          \"INFO\"\n        ],\n        \"semantic_type\": \"\",\n        \"description\": \"\"\n      }\n    },\n    {\n      \"column\": \"Component\",\n      \"properties\": {\n        \"dtype\": \"category\",\n        \"num_unique_values\": 10,\n        \"samples\": [\n          \"nova.compute.claims\",\n          \"nova.compute.manager\"\n        ],\n        \"semantic_type\": \"\",\n        \"description\": \"\"\n      }\n    },\n    {\n      \"column\": \"Message\",\n      \"properties\": {\n        \"dtype\": \"string\",\n        \"num_unique_values\": 1575,\n        \"samples\": [\n          \"[req-3ea4052c-895d-4b64-9e2d-04d64c4d94ab - - - - -] [instance: d96a117b-0193-4549-bdcc-63b917273d1d] VM Paused (Lifecycle Event)\",\n          \"[req-3ea4052c-895d-4b64-9e2d-04d64c4d94ab - - - - -] [instance: d54b44eb-2d1a-4aa2-ba6b-074d35f8f12c] During sync_power_state the instance has a pending task (spawning). Skip.\"\n        ],\n        \"semantic_type\": \"\",\n        \"description\": \"\"\n      }\n    }\n  ]\n}"
            }
          },
          "metadata": {},
          "execution_count": 29
        }
      ]
    },
    {
      "cell_type": "markdown",
      "source": [
        "## **6 - Анализ данных из логов `OpenStack**"
      ],
      "metadata": {
        "id": "p_papz9lelE6"
      }
    },
    {
      "cell_type": "markdown",
      "source": [
        "На этом этапе выполним базовый анализ логов:\n",
        "- Подсчет количества записей по уровням логирования (`Level`).\n",
        "- Определение топ-5 наиболее активных компонентов (`Component`).\n",
        "- Вывод результатов в виде таблиц."
      ],
      "metadata": {
        "id": "cZE-60goy0Ka"
      }
    },
    {
      "cell_type": "code",
      "source": [
        "import pandas as pd\n",
        "import sqlite3\n",
        "\n",
        "# Подключаемся к базе данных\n",
        "connection = sqlite3.connect(db_path)\n",
        "cursor = connection.cursor()\n",
        "\n",
        "# Читаем данные\n",
        "cursor.execute(\"SELECT * FROM logs\")\n",
        "rows = cursor.fetchall()\n",
        "\n",
        "cursor.close()\n",
        "connection.close()\n",
        "\n",
        "# Создаем DataFrame\n",
        "log_df = pd.DataFrame(rows, columns=(\"Id\", \"Datetime\", \"Pid\", \"Level\", \"Component\", \"Message\"))\n",
        "\n",
        "# Анализ по уровням логирования\n",
        "level_counts = log_df['Level'].value_counts()\n",
        "print(\"Количество записей по уровням логирования:\")\n",
        "print(level_counts)\n",
        "\n",
        "# Анализ по компонентам\n",
        "component_counts = log_df['Component'].value_counts().head(5)\n",
        "print(\"\\nТоп-5 наиболее активных компонентов:\")\n",
        "print(component_counts)"
      ],
      "metadata": {
        "id": "_IOTBP0pekwG",
        "colab": {
          "base_uri": "https://localhost:8080/"
        },
        "outputId": "f4f2e88f-3616-4484-9da5-242ad075d896"
      },
      "execution_count": 30,
      "outputs": [
        {
          "output_type": "stream",
          "name": "stdout",
          "text": [
            "Количество записей по уровням логирования:\n",
            "Level\n",
            "INFO       1969\n",
            "WARNING      31\n",
            "Name: count, dtype: int64\n",
            "\n",
            "Топ-5 наиболее активных компонентов:\n",
            "Component\n",
            "nova.osapi_compute.wsgi.server    809\n",
            "nova.virt.libvirt.imagecache      336\n",
            "nova.compute.manager              262\n",
            "nova.metadata.wsgi.server         208\n",
            "nova.compute.claims               168\n",
            "Name: count, dtype: int64\n"
          ]
        }
      ]
    },
    {
      "cell_type": "markdown",
      "source": [
        "## 7 - Визуализация данных из логов `OpenStack`:"
      ],
      "metadata": {
        "id": "C7b8bZqHlDXA"
      }
    },
    {
      "cell_type": "markdown",
      "source": [
        "Построим столбчатую диаграмму количества записей для уровней логирования `INFO` и `WARNING`."
      ],
      "metadata": {
        "id": "Ar1kt77fy_nk"
      }
    },
    {
      "cell_type": "code",
      "source": [
        "import matplotlib.pyplot as plt\n",
        "\n",
        "# Фильтруем только INFO и WARNING\n",
        "filtered_levels = log_df[log_df['Level'].isin(['INFO', 'WARNING'])]\n",
        "level_counts = filtered_levels['Level'].value_counts()\n",
        "\n",
        "# Создание столбчатой диаграммы\n",
        "plt.figure(figsize=(10, 6))\n",
        "level_counts.plot(kind='bar', color='skyblue')\n",
        "plt.title('Количество записей по уровням логирования (INFO и WARNING)')\n",
        "plt.xlabel('Уровень логирования')\n",
        "plt.ylabel('Количество записей')\n",
        "plt.xticks(rotation=0)  # Без поворота, так как только 2 значения\n",
        "plt.grid(axis='y', linestyle='--', alpha=0.7)\n",
        "plt.tight_layout()\n",
        "plt.show()"
      ],
      "metadata": {
        "colab": {
          "base_uri": "https://localhost:8080/",
          "height": 607
        },
        "id": "wtlixZz8lDqc",
        "outputId": "da8af9d9-f15b-4ee6-f660-9d8530f8c6a4"
      },
      "execution_count": 34,
      "outputs": [
        {
          "output_type": "display_data",
          "data": {
            "text/plain": [
              "<Figure size 1000x600 with 1 Axes>"
            ],
            "image/png": "[encoded data removed]"
          },
          "metadata": {}
        }
      ]
    },
    {
      "cell_type": "markdown",
      "source": [
        "## 8 - Поиск подозрительных событий в логах `OpenStack`:\n"
      ],
      "metadata": {
        "id": "XIl4MpqSl7ni"
      }
    },
    {
      "cell_type": "markdown",
      "source": [
        "Выведем первые 5 записей для уровней `INFO` и `WARNING` для анализа."
      ],
      "metadata": {
        "id": "tPMUiUg3o3eA"
      }
    },
    {
      "cell_type": "code",
      "source": [
        "# Фильтрация записей с уровнем INFO\n",
        "info_logs = log_df[log_df['Level'] == 'INFO']\n",
        "print(\"Первые 5 записей с уровнем INFO:\")\n",
        "if len(info_logs) > 0:\n",
        "    print(info_logs.head(5))\n",
        "else:\n",
        "    print(\"Записей с уровнем INFO не найдено.\")\n",
        "\n",
        "# Фильтрация записей с уровнем WARNING\n",
        "warning_logs = log_df[log_df['Level'] == 'WARNING']\n",
        "print(\"\\nПервые 5 записей с уровнем WARNING:\")\n",
        "if len(warning_logs) > 0:\n",
        "    print(warning_logs.head(5))\n",
        "else:\n",
        "    print(\"Записей с уровнем WARNING не найдено.\")"
      ],
      "metadata": {
        "colab": {
          "base_uri": "https://localhost:8080/"
        },
        "id": "yluYm95amIC6",
        "outputId": "541a4b8e-9949-43eb-b187-112826ed4f3a"
      },
      "execution_count": 33,
      "outputs": [
        {
          "output_type": "stream",
          "name": "stdout",
          "text": [
            "Первые 5 записей с уровнем INFO:\n",
            "     Id                 Datetime    Pid Level                       Component  \\\n",
            "0  2001  2017-05-16 00:00:00.008  25746  INFO  nova.osapi_compute.wsgi.server   \n",
            "1  2002  2017-05-16 00:00:00.272  25746  INFO  nova.osapi_compute.wsgi.server   \n",
            "2  2003  2017-05-16 00:00:01.551  25746  INFO  nova.osapi_compute.wsgi.server   \n",
            "3  2004  2017-05-16 00:00:01.813  25746  INFO  nova.osapi_compute.wsgi.server   \n",
            "4  2005  2017-05-16 00:00:03.091  25746  INFO  nova.osapi_compute.wsgi.server   \n",
            "\n",
            "                                             Message  \n",
            "0  [req-38101a0b-2096-447d-96ea-a692162415ae 113d...  \n",
            "1  [req-9bc36dd9-91c5-4314-898a-47625eb93b09 113d...  \n",
            "2  [req-55db2d8d-cdb7-4b4b-993b-429be84c0c3e 113d...  \n",
            "3  [req-2a3dc421-6604-42a7-9390-a18dc824d5d6 113d...  \n",
            "4  [req-939eb332-c1c1-4e67-99b8-8695f8f1980a 113d...  \n",
            "\n",
            "Первые 5 записей с уровнем WARNING:\n",
            "       Id                 Datetime   Pid    Level  \\\n",
            "56   2057  2017-05-16 00:00:20.345  2931  WARNING   \n",
            "146  2147  2017-05-16 00:01:01.698  2931  WARNING   \n",
            "237  2238  2017-05-16 00:01:45.116  2931  WARNING   \n",
            "240  2241  2017-05-16 00:01:50.149  2931  WARNING   \n",
            "326  2327  2017-05-16 00:02:25.118  2931  WARNING   \n",
            "\n",
            "                        Component  \\\n",
            "56   nova.virt.libvirt.imagecache   \n",
            "146  nova.virt.libvirt.imagecache   \n",
            "237  nova.virt.libvirt.imagecache   \n",
            "240  nova.virt.libvirt.imagecache   \n",
            "326  nova.virt.libvirt.imagecache   \n",
            "\n",
            "                                               Message  \n",
            "56   [req-addc1839-2ed5-4778-b57e-5854eb7b8b09 - - ...  \n",
            "146  [req-addc1839-2ed5-4778-b57e-5854eb7b8b09 - - ...  \n",
            "237  [req-addc1839-2ed5-4778-b57e-5854eb7b8b09 - - ...  \n",
            "240  [req-addc1839-2ed5-4778-b57e-5854eb7b8b09 - - ...  \n",
            "326  [req-addc1839-2ed5-4778-b57e-5854eb7b8b09 - - ...  \n"
          ]
        }
      ]
    }
  ]
}